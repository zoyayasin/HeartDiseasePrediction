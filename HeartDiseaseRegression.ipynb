{
  "nbformat": 4,
  "nbformat_minor": 0,
  "metadata": {
    "colab": {
      "name": "HeartDiseaseRegression.ipynb",
      "provenance": [],
      "include_colab_link": true
    },
    "kernelspec": {
      "name": "python3",
      "display_name": "Python 3"
    },
    "language_info": {
      "name": "python"
    }
  },
  "cells": [
    {
      "cell_type": "markdown",
      "metadata": {
        "id": "view-in-github",
        "colab_type": "text"
      },
      "source": [
        "<a href=\"https://colab.research.google.com/github/zoyayasin/HeartDiseasePrediction/blob/master/HeartDiseaseRegression.ipynb\" target=\"_parent\"><img src=\"https://colab.research.google.com/assets/colab-badge.svg\" alt=\"Open In Colab\"/></a>"
      ]
    },
    {
      "cell_type": "code",
      "metadata": {
        "id": "SyFZMxtNe2VK"
      },
      "source": [
        "import numpy as np # linear algebra\n",
        "import pandas as pd # data processing, CSV file I/O (e.g. pd.read_csv)\n",
        "import matplotlib.pyplot as plt\n",
        "plt.style.use('seaborn-whitegrid')"
      ],
      "execution_count": 183,
      "outputs": []
    },
    {
      "cell_type": "code",
      "metadata": {
        "id": "sdAKUyG4zD1n",
        "colab": {
          "base_uri": "https://localhost:8080/",
          "height": 469
        },
        "outputId": "46ff8697-a245-4f56-c4bf-18a0b8d844d7"
      },
      "source": [
        "input_data = pd.read_csv(\"/content/FinalDataClean(1).csv\")\n",
        "input_data.head()"
      ],
      "execution_count": 184,
      "outputs": [
        {
          "output_type": "execute_result",
          "data": {
            "text/html": [
              "<div>\n",
              "<style scoped>\n",
              "    .dataframe tbody tr th:only-of-type {\n",
              "        vertical-align: middle;\n",
              "    }\n",
              "\n",
              "    .dataframe tbody tr th {\n",
              "        vertical-align: top;\n",
              "    }\n",
              "\n",
              "    .dataframe thead th {\n",
              "        text-align: right;\n",
              "    }\n",
              "</style>\n",
              "<table border=\"1\" class=\"dataframe\">\n",
              "  <thead>\n",
              "    <tr style=\"text-align: right;\">\n",
              "      <th></th>\n",
              "      <th>LocCode</th>\n",
              "      <th>LocID</th>\n",
              "      <th>Loc</th>\n",
              "      <th>Type</th>\n",
              "      <th>Topic</th>\n",
              "      <th>Age</th>\n",
              "      <th>Gender</th>\n",
              "      <th>Race</th>\n",
              "      <th>Val1</th>\n",
              "      <th>Val2</th>\n",
              "      <th>val3</th>\n",
              "      <th>Average</th>\n",
              "      <th>Diabetes</th>\n",
              "      <th>Obesity</th>\n",
              "      <th>Physical Inactivity</th>\n",
              "      <th>Smoking</th>\n",
              "      <th>18-24</th>\n",
              "      <th>25-44</th>\n",
              "      <th>35+</th>\n",
              "      <th>45-64</th>\n",
              "      <th>65+</th>\n",
              "      <th>75+</th>\n",
              "      <th>Female</th>\n",
              "      <th>Male</th>\n",
              "      <th>Hispanic</th>\n",
              "      <th>Non-Hispanic Asian</th>\n",
              "      <th>Non-Hispanic Black</th>\n",
              "      <th>Non-Hispanic White</th>\n",
              "      <th>Acute Myocardial Infarction (Heart Attack)</th>\n",
              "      <th>Coronary Heart Disease</th>\n",
              "      <th>Major Cardiovascular Disease</th>\n",
              "      <th>Stroke</th>\n",
              "    </tr>\n",
              "  </thead>\n",
              "  <tbody>\n",
              "    <tr>\n",
              "      <th>0</th>\n",
              "      <td>USM</td>\n",
              "      <td>58</td>\n",
              "      <td>Median of all states</td>\n",
              "      <td>Risk Factors</td>\n",
              "      <td>Diabetes</td>\n",
              "      <td>18-24</td>\n",
              "      <td>Female</td>\n",
              "      <td>Hispanic</td>\n",
              "      <td>1.2</td>\n",
              "      <td>9.85</td>\n",
              "      <td>11.45</td>\n",
              "      <td>7.500000</td>\n",
              "      <td>1</td>\n",
              "      <td>0</td>\n",
              "      <td>0</td>\n",
              "      <td>0</td>\n",
              "      <td>1</td>\n",
              "      <td>0</td>\n",
              "      <td>0</td>\n",
              "      <td>0</td>\n",
              "      <td>0</td>\n",
              "      <td>0</td>\n",
              "      <td>1</td>\n",
              "      <td>0</td>\n",
              "      <td>1</td>\n",
              "      <td>0</td>\n",
              "      <td>0</td>\n",
              "      <td>0</td>\n",
              "      <td>13.483333</td>\n",
              "      <td>2.166667</td>\n",
              "      <td>4.883333</td>\n",
              "      <td>2.083333</td>\n",
              "    </tr>\n",
              "    <tr>\n",
              "      <th>1</th>\n",
              "      <td>USM</td>\n",
              "      <td>58</td>\n",
              "      <td>Median of all states</td>\n",
              "      <td>Risk Factors</td>\n",
              "      <td>Diabetes</td>\n",
              "      <td>18-24</td>\n",
              "      <td>Female</td>\n",
              "      <td>Non-Hispanic Asian</td>\n",
              "      <td>1.2</td>\n",
              "      <td>9.85</td>\n",
              "      <td>8.10</td>\n",
              "      <td>6.383333</td>\n",
              "      <td>1</td>\n",
              "      <td>0</td>\n",
              "      <td>0</td>\n",
              "      <td>0</td>\n",
              "      <td>1</td>\n",
              "      <td>0</td>\n",
              "      <td>0</td>\n",
              "      <td>0</td>\n",
              "      <td>0</td>\n",
              "      <td>0</td>\n",
              "      <td>1</td>\n",
              "      <td>0</td>\n",
              "      <td>0</td>\n",
              "      <td>1</td>\n",
              "      <td>0</td>\n",
              "      <td>0</td>\n",
              "      <td>6.925000</td>\n",
              "      <td>1.650000</td>\n",
              "      <td>3.900000</td>\n",
              "      <td>1.450000</td>\n",
              "    </tr>\n",
              "    <tr>\n",
              "      <th>2</th>\n",
              "      <td>USM</td>\n",
              "      <td>58</td>\n",
              "      <td>Median of all states</td>\n",
              "      <td>Risk Factors</td>\n",
              "      <td>Diabetes</td>\n",
              "      <td>18-24</td>\n",
              "      <td>Female</td>\n",
              "      <td>Non-Hispanic Black</td>\n",
              "      <td>1.2</td>\n",
              "      <td>9.85</td>\n",
              "      <td>14.25</td>\n",
              "      <td>8.433333</td>\n",
              "      <td>1</td>\n",
              "      <td>0</td>\n",
              "      <td>0</td>\n",
              "      <td>0</td>\n",
              "      <td>1</td>\n",
              "      <td>0</td>\n",
              "      <td>0</td>\n",
              "      <td>0</td>\n",
              "      <td>0</td>\n",
              "      <td>0</td>\n",
              "      <td>1</td>\n",
              "      <td>0</td>\n",
              "      <td>0</td>\n",
              "      <td>0</td>\n",
              "      <td>1</td>\n",
              "      <td>0</td>\n",
              "      <td>14.066667</td>\n",
              "      <td>2.433333</td>\n",
              "      <td>5.733333</td>\n",
              "      <td>2.600000</td>\n",
              "    </tr>\n",
              "    <tr>\n",
              "      <th>3</th>\n",
              "      <td>USM</td>\n",
              "      <td>58</td>\n",
              "      <td>Median of all states</td>\n",
              "      <td>Risk Factors</td>\n",
              "      <td>Diabetes</td>\n",
              "      <td>18-24</td>\n",
              "      <td>Female</td>\n",
              "      <td>Non-Hispanic White</td>\n",
              "      <td>1.2</td>\n",
              "      <td>9.85</td>\n",
              "      <td>9.40</td>\n",
              "      <td>6.816667</td>\n",
              "      <td>1</td>\n",
              "      <td>0</td>\n",
              "      <td>0</td>\n",
              "      <td>0</td>\n",
              "      <td>1</td>\n",
              "      <td>0</td>\n",
              "      <td>0</td>\n",
              "      <td>0</td>\n",
              "      <td>0</td>\n",
              "      <td>0</td>\n",
              "      <td>1</td>\n",
              "      <td>0</td>\n",
              "      <td>0</td>\n",
              "      <td>0</td>\n",
              "      <td>0</td>\n",
              "      <td>1</td>\n",
              "      <td>14.958333</td>\n",
              "      <td>2.616667</td>\n",
              "      <td>5.416667</td>\n",
              "      <td>2.166667</td>\n",
              "    </tr>\n",
              "    <tr>\n",
              "      <th>4</th>\n",
              "      <td>USM</td>\n",
              "      <td>58</td>\n",
              "      <td>Median of all states</td>\n",
              "      <td>Risk Factors</td>\n",
              "      <td>Diabetes</td>\n",
              "      <td>18-24</td>\n",
              "      <td>Male</td>\n",
              "      <td>Hispanic</td>\n",
              "      <td>1.2</td>\n",
              "      <td>10.80</td>\n",
              "      <td>11.45</td>\n",
              "      <td>7.816667</td>\n",
              "      <td>1</td>\n",
              "      <td>0</td>\n",
              "      <td>0</td>\n",
              "      <td>0</td>\n",
              "      <td>1</td>\n",
              "      <td>0</td>\n",
              "      <td>0</td>\n",
              "      <td>0</td>\n",
              "      <td>0</td>\n",
              "      <td>0</td>\n",
              "      <td>0</td>\n",
              "      <td>1</td>\n",
              "      <td>1</td>\n",
              "      <td>0</td>\n",
              "      <td>0</td>\n",
              "      <td>0</td>\n",
              "      <td>14.783333</td>\n",
              "      <td>2.866667</td>\n",
              "      <td>5.850000</td>\n",
              "      <td>2.100000</td>\n",
              "    </tr>\n",
              "  </tbody>\n",
              "</table>\n",
              "</div>"
            ],
            "text/plain": [
              "  LocCode  LocID  ... Major Cardiovascular Disease    Stroke\n",
              "0     USM     58  ...                     4.883333  2.083333\n",
              "1     USM     58  ...                     3.900000  1.450000\n",
              "2     USM     58  ...                     5.733333  2.600000\n",
              "3     USM     58  ...                     5.416667  2.166667\n",
              "4     USM     58  ...                     5.850000  2.100000\n",
              "\n",
              "[5 rows x 32 columns]"
            ]
          },
          "metadata": {},
          "execution_count": 184
        }
      ]
    },
    {
      "cell_type": "code",
      "metadata": {
        "id": "ISAdBdCYCi7y"
      },
      "source": [
        "#handling missing values\n",
        "input_data = input_data.fillna(0)"
      ],
      "execution_count": 185,
      "outputs": []
    },
    {
      "cell_type": "code",
      "metadata": {
        "id": "iXpUmPoc0vyb"
      },
      "source": [
        "#input feature selection\n",
        "selected_features = ['LocID','Average','Diabetes','Obesity','Physical Inactivity','Smoking','18-24','25-44','35+','45-64','65+','75+','Female','Male','Hispanic','Non-Hispanic Asian','Non-Hispanic Black','Non-Hispanic White']\n",
        "targets = ['Acute Myocardial Infarction (Heart Attack)','Coronary Heart Disease','Major Cardiovascular Disease','Stroke']\n",
        "X = input_data[selected_features]\n",
        "Y = input_data[targets]"
      ],
      "execution_count": 186,
      "outputs": []
    },
    {
      "cell_type": "code",
      "metadata": {
        "id": "0BbjhBV7U-zn"
      },
      "source": [
        "from sklearn.model_selection import train_test_split\n",
        "\n",
        "X_train = []\n",
        "y_train = []\n",
        "X_test = []\n",
        "y_test = []\n",
        "\n",
        "#split into training and testing data for all 4 targets\n",
        "for i in range(len(targets)):\n",
        "  X_tr,X_ts,y_tr,y_ts= train_test_split(X,Y.iloc[:,i],test_size=0.20,random_state=0)\n",
        "  # X_tr_fs,X_ts_fs, fs = select_features_correlation(X_tr, y_tr, X_ts)\n",
        "  # X_train.append(X_tr_fs)\n",
        "  X_train.append(X_tr)\n",
        "  y_train.append(y_tr)\n",
        "  # X_test.append(X_ts_fs)\n",
        "  X_test.append(X_ts)\n",
        "  y_test.append(y_ts)"
      ],
      "execution_count": 187,
      "outputs": []
    },
    {
      "cell_type": "code",
      "metadata": {
        "colab": {
          "base_uri": "https://localhost:8080/"
        },
        "id": "1Oj_mss5lAan",
        "outputId": "4d53d665-e7ce-4047-b49b-3042ef264f81"
      },
      "source": [
        "print(X_train[0])"
      ],
      "execution_count": 188,
      "outputs": [
        {
          "output_type": "stream",
          "name": "stdout",
          "text": [
            "      LocID    Average  ...  Non-Hispanic Black  Non-Hispanic White\n",
            "6965     13  42.733333  ...                   0                   0\n",
            "5258     18  34.008333  ...                   1                   0\n",
            "6805     36  36.041667  ...                   0                   0\n",
            "6554     37  14.866667  ...                   1                   0\n",
            "7362     21  34.591667  ...                   1                   0\n",
            "...     ...        ...  ...                 ...                 ...\n",
            "9225     47  11.550000  ...                   0                   0\n",
            "4859      1  33.308333  ...                   0                   1\n",
            "3264     12   8.133333  ...                   0                   0\n",
            "9845     56  39.000000  ...                   0                   0\n",
            "2732      5  17.350000  ...                   0                   0\n",
            "\n",
            "[7987 rows x 18 columns]\n"
          ]
        }
      ]
    },
    {
      "cell_type": "code",
      "metadata": {
        "id": "tEFtVYt5qyOw"
      },
      "source": [
        "from sklearn.linear_model import LinearRegression\n",
        "\n",
        "#array of models\n",
        "model_list = []\n",
        "\n",
        "#fit 4 linear regression models for the 4 targets\n",
        "for idx in range(len(targets)):\n",
        "  model = LinearRegression()\n",
        "  model.fit(X_train[idx],y_train[idx])\n",
        "  model_list.append(model)"
      ],
      "execution_count": 154,
      "outputs": []
    },
    {
      "cell_type": "code",
      "metadata": {
        "id": "FmtfF7rfs_y2"
      },
      "source": [
        "from sklearn.linear_model import Lasso\n",
        "\n",
        "#array of models\n",
        "model_list = []\n",
        "\n",
        "#fit 4 lasso regression models for the 4 targets\n",
        "for idx in range(len(targets)):\n",
        "  model = Lasso(alpha=0.5)\n",
        "  model.fit(X_train[idx],y_train[idx])\n",
        "  model_list.append(model)"
      ],
      "execution_count": 137,
      "outputs": []
    },
    {
      "cell_type": "code",
      "metadata": {
        "id": "dhCN79jktCpc"
      },
      "source": [
        "from sklearn.linear_model import Ridge\n",
        "\n",
        "#array of models\n",
        "model_list = []\n",
        "\n",
        "#fit 4 ridge regression models for the 4 targets\n",
        "for idx in range(len(targets)):\n",
        "  model = Ridge(alpha=0.05)\n",
        "  model.fit(X_train[idx],y_train[idx])\n",
        "  model_list.append(model)"
      ],
      "execution_count": 155,
      "outputs": []
    },
    {
      "cell_type": "code",
      "metadata": {
        "id": "96NsPTxcf1e4"
      },
      "source": [
        "#predictions\n",
        "y_pred = []\n",
        "for i, model in enumerate(model_list):\n",
        "  y_pred.append(model.predict(X_test[i]))"
      ],
      "execution_count": 156,
      "outputs": []
    },
    {
      "cell_type": "code",
      "metadata": {
        "colab": {
          "base_uri": "https://localhost:8080/"
        },
        "id": "FpCC1cj5Ek6x",
        "outputId": "1c4a2166-7214-478e-a26d-2a51ca3c5c37"
      },
      "source": [
        "#model validation\n",
        "from sklearn.metrics import mean_absolute_error\n",
        "from sklearn.metrics import mean_squared_error\n",
        "from sklearn.metrics import r2_score\n",
        "\n",
        "for idx,target in enumerate(targets):\n",
        "  print(\"MAE for %s model = %f\"%(target,(mean_absolute_error(y_test[idx], y_pred[idx]))))\n",
        "  print(\"MSE for %s model = %f\"%(target,(mean_squared_error(y_test[idx], y_pred[idx]))))\n",
        "  print(\"RMSE for %s model = %f\"%(target,np.sqrt(mean_squared_error(y_test[idx], y_pred[idx]))))\n",
        "  print(\"R2 score for %s model = %f\\n\"%(target,r2_score(y_test[idx], y_pred[idx])))"
      ],
      "execution_count": 157,
      "outputs": [
        {
          "output_type": "stream",
          "name": "stdout",
          "text": [
            "MAE for Acute Myocardial Infarction (Heart Attack) model = 5.985215\n",
            "MSE for Acute Myocardial Infarction (Heart Attack) model = 55.459865\n",
            "RMSE for Acute Myocardial Infarction (Heart Attack) model = 7.447138\n",
            "R2 score for Acute Myocardial Infarction (Heart Attack) model = 0.113115\n",
            "\n",
            "MAE for Coronary Heart Disease model = 1.221597\n",
            "MSE for Coronary Heart Disease model = 3.545871\n",
            "RMSE for Coronary Heart Disease model = 1.883048\n",
            "R2 score for Coronary Heart Disease model = 0.548726\n",
            "\n",
            "MAE for Major Cardiovascular Disease model = 1.970887\n",
            "MSE for Major Cardiovascular Disease model = 7.140499\n",
            "RMSE for Major Cardiovascular Disease model = 2.672171\n",
            "R2 score for Major Cardiovascular Disease model = 0.646907\n",
            "\n",
            "MAE for Stroke model = 0.795714\n",
            "MSE for Stroke model = 1.021475\n",
            "RMSE for Stroke model = 1.010681\n",
            "R2 score for Stroke model = 0.648397\n",
            "\n"
          ]
        }
      ]
    },
    {
      "cell_type": "code",
      "metadata": {
        "id": "QUXq1wCNrA8n"
      },
      "source": [
        "#baseline model\n",
        "y_baseline_list = []\n",
        "for i in range(len(targets)):\n",
        "  y_baseline = np.array(np.mean(y_test[i]))\n",
        "  ones_vector =  np.ones((y_test[0].shape[0],1))\n",
        "  y_pred_baseline = np.multiply(y_baseline, ones_vector)\n",
        "  y_baseline_list.append(y_pred_baseline)"
      ],
      "execution_count": 143,
      "outputs": []
    },
    {
      "cell_type": "code",
      "metadata": {
        "colab": {
          "base_uri": "https://localhost:8080/"
        },
        "id": "3C3BkXlzu_uZ",
        "outputId": "f1196c20-800a-41b3-e6f8-e1990731aca7"
      },
      "source": [
        "#baseline model validation\n",
        "for idx,target in enumerate(targets):\n",
        "  print(\"MAE for %s model = %f\"%(target,(mean_absolute_error(y_test[idx], y_baseline_list[i]))))\n",
        "  print(\"MSE for %s model = %f\"%(target,(mean_squared_error(y_test[idx], y_baseline_list[i]))))\n",
        "  print(\"RMSE for %s model = %f\"%(target,np.sqrt(mean_squared_error(y_test[idx], y_baseline_list[i]))))\n",
        "  print(\"R2 score for %s model = %f\\n\"%(target,r2_score(y_test[idx], y_baseline_list[i])))"
      ],
      "execution_count": 144,
      "outputs": [
        {
          "output_type": "stream",
          "name": "stdout",
          "text": [
            "MAE for Acute Myocardial Infarction (Heart Attack) model = 6.886531\n",
            "MSE for Acute Myocardial Infarction (Heart Attack) model = 104.598618\n",
            "RMSE for Acute Myocardial Infarction (Heart Attack) model = 10.227347\n",
            "R2 score for Acute Myocardial Infarction (Heart Attack) model = -0.672685\n",
            "\n",
            "MAE for Coronary Heart Disease model = 2.358151\n",
            "MSE for Coronary Heart Disease model = 10.754078\n",
            "RMSE for Coronary Heart Disease model = 3.279341\n",
            "R2 score for Coronary Heart Disease model = -0.368645\n",
            "\n",
            "MAE for Major Cardiovascular Disease model = 7.133443\n",
            "MSE for Major Cardiovascular Disease model = 70.958842\n",
            "RMSE for Major Cardiovascular Disease model = 8.423707\n",
            "R2 score for Major Cardiovascular Disease model = -2.508870\n",
            "\n",
            "MAE for Stroke model = 1.421128\n",
            "MSE for Stroke model = 2.905192\n",
            "RMSE for Stroke model = 1.704462\n",
            "R2 score for Stroke model = 0.000000\n",
            "\n"
          ]
        }
      ]
    },
    {
      "cell_type": "code",
      "metadata": {
        "id": "21gZQk1V6mUG"
      },
      "source": [
        "y1 = np.array(Y.iloc[:,0])\n",
        "y2 = np.array(Y.iloc[:,1])\n",
        "y3 = np.array(Y.iloc[:,2])\n",
        "y4 = np.array(Y.iloc[:,3])\n",
        "\n",
        "X = np.array(X)"
      ],
      "execution_count": 189,
      "outputs": []
    },
    {
      "cell_type": "code",
      "metadata": {
        "id": "TAskPeWCT31z",
        "colab": {
          "base_uri": "https://localhost:8080/",
          "height": 435
        },
        "outputId": "2d44b312-8a76-4dd8-8a1b-950fd76c707d"
      },
      "source": [
        "from sklearn.model_selection import KFold\n",
        "from sklearn.metrics import mean_squared_error\n",
        "\n",
        "mean_error1=[]\n",
        "std_error1=[] \n",
        "mean_error2=[]\n",
        "std_error2=[] \n",
        "Ci_range = [0.0001, 0.0025, 0.05, 0.5, 1, 5, 10] \n",
        "for C in Ci_range: \n",
        "    model1 = Ridge(alpha=1/(2*C)) \n",
        "    model2 = Lasso(alpha=1/(2*C))\n",
        "    temp1=[]\n",
        "    temp2=[]  \n",
        "    kf = KFold(n_splits=5) \n",
        "    for train, test in kf.split(X): \n",
        "        model1.fit(X[train], y1[train]) \n",
        "        model2.fit(X[train], y1[train])\n",
        "        ypred1 = model1.predict(X[test]) \n",
        "        ypred2 = model2.predict(X[test]) \n",
        "        temp1.append(mean_absolute_error(y1[test],ypred1)) \n",
        "        temp2.append(mean_absolute_error(y1[test],ypred2)) \n",
        "    mean_error1.append(np.array(temp1).mean()) \n",
        "    std_error1.append(np.array(temp1).std()) \n",
        "    mean_error2.append(np.array(temp2).mean()) \n",
        "    std_error2.append(np.array(temp2).std())        \n",
        "fig = plt.figure()\n",
        "fig.set_figwidth(10)\n",
        "fig.set_figheight(6)\n",
        "plt.errorbar(Ci_range,mean_error1,yerr=std_error1, label = 'Ridge Model')\n",
        "plt.errorbar(Ci_range,mean_error2,yerr=std_error2, label = 'Lasso Model') \n",
        "plt.xlabel('Ci') \n",
        "plt.ylabel('Mean abs error') \n",
        "plt.legend()\n",
        "plt.title(\"Error bar plot for different C values for Ridge and Lasso models\")\n",
        "plt.show()\n",
        "print(mean_error1)\n",
        "print(mean_error2)"
      ],
      "execution_count": 195,
      "outputs": [
        {
          "output_type": "display_data",
          "data": {
            "image/png": "[encoded data removed]",
            "text/plain": [
              "<Figure size 720x432 with 1 Axes>"
            ]
          },
          "metadata": {}
        },
        {
          "output_type": "stream",
          "name": "stdout",
          "text": [
            "[6.517426467480751, 6.419924207404368, 6.394081090966588, 6.389887129699087, 6.389625894470524, 6.389416642597537, 6.389390537004129]\n",
            "[6.59928630726492, 6.59928630726492, 6.652634142004243, 6.598755947428037, 6.546059366979408, 6.428928445996594, 6.423009699552554]\n"
          ]
        }
      ]
    },
    {
      "cell_type": "code",
      "metadata": {
        "colab": {
          "base_uri": "https://localhost:8080/",
          "height": 435
        },
        "id": "B03TTV2u7BEj",
        "outputId": "4bb6c806-9794-4c20-d3d6-f1d2cf4a0180"
      },
      "source": [
        "from sklearn.model_selection import KFold\n",
        "from sklearn.metrics import mean_squared_error\n",
        "\n",
        "mean_error1=[]\n",
        "std_error1=[] \n",
        "mean_error2=[]\n",
        "std_error2=[] \n",
        "Ci_range = [0.0001, 0.0025, 0.05, 0.5, 1, 5, 10] \n",
        "for C in Ci_range: \n",
        "    model1 = Ridge(alpha=1/(2*C)) \n",
        "    model2 = Lasso(alpha=1/(2*C))\n",
        "    temp1=[]\n",
        "    temp2=[]  \n",
        "    kf = KFold(n_splits=5) \n",
        "    for train, test in kf.split(X): \n",
        "        model1.fit(X[train], y2[train]) \n",
        "        model2.fit(X[train], y2[train])\n",
        "        ypred1 = model1.predict(X[test]) \n",
        "        ypred2 = model2.predict(X[test]) \n",
        "        temp1.append(mean_absolute_error(y2[test],ypred1)) \n",
        "        temp2.append(mean_absolute_error(y2[test],ypred2)) \n",
        "    mean_error1.append(np.array(temp1).mean()) \n",
        "    std_error1.append(np.array(temp1).std()) \n",
        "    mean_error2.append(np.array(temp2).mean()) \n",
        "    std_error2.append(np.array(temp2).std())        \n",
        "fig = plt.figure()\n",
        "fig.set_figwidth(10)\n",
        "fig.set_figheight(6)\n",
        "plt.errorbar(Ci_range,mean_error1,yerr=std_error1, label = 'Ridge Model')\n",
        "plt.errorbar(Ci_range,mean_error2,yerr=std_error2, label = 'Lasso Model') \n",
        "plt.xlabel('Ci') \n",
        "plt.ylabel('Mean abs error') \n",
        "plt.legend()\n",
        "plt.title(\"Error bar plot for different C values for Ridge and Lasso models\")\n",
        "plt.show()\n",
        "print(mean_error1)\n",
        "print(mean_error2)"
      ],
      "execution_count": 196,
      "outputs": [
        {
          "output_type": "display_data",
          "data": {
            "image/png": "[encoded data removed]",
            "text/plain": [
              "<Figure size 720x432 with 1 Axes>"
            ]
          },
          "metadata": {}
        },
        {
          "output_type": "stream",
          "name": "stdout",
          "text": [
            "[1.8559126007324156, 1.2433846473693766, 1.2137533865101902, 1.2131396053514218, 1.2131217754434074, 1.213108924851099, 1.213107529257314]\n",
            "[2.1701736401597413, 2.1701736401597413, 2.1701736401597413, 2.170996835327974, 2.118206042964599, 1.3133273847261258, 1.2497998811382034]\n"
          ]
        }
      ]
    },
    {
      "cell_type": "code",
      "metadata": {
        "colab": {
          "base_uri": "https://localhost:8080/",
          "height": 452
        },
        "id": "GrCJNepA7IAY",
        "outputId": "6ca28f3a-f211-433d-c420-47d2eee0fe0a"
      },
      "source": [
        "from sklearn.model_selection import KFold\n",
        "from sklearn.metrics import mean_squared_error\n",
        "\n",
        "mean_error1=[]\n",
        "std_error1=[] \n",
        "mean_error2=[]\n",
        "std_error2=[] \n",
        "Ci_range = [0.0001, 0.0025, 0.05, 0.5, 1, 5, 10] \n",
        "for C in Ci_range: \n",
        "    model1 = Ridge(alpha=1/(2*C)) \n",
        "    model2 = Lasso(alpha=1/(2*C))\n",
        "    temp1=[]\n",
        "    temp2=[]  \n",
        "    kf = KFold(n_splits=5) \n",
        "    for train, test in kf.split(X): \n",
        "        model1.fit(X[train], y3[train]) \n",
        "        model2.fit(X[train], y3[train])\n",
        "        ypred1 = model1.predict(X[test]) \n",
        "        ypred2 = model2.predict(X[test]) \n",
        "        temp1.append(mean_absolute_error(y3[test],ypred1)) \n",
        "        temp2.append(mean_absolute_error(y3[test],ypred2)) \n",
        "    mean_error1.append(np.array(temp1).mean()) \n",
        "    std_error1.append(np.array(temp1).std()) \n",
        "    mean_error2.append(np.array(temp2).mean()) \n",
        "    std_error2.append(np.array(temp2).std())        \n",
        "fig = plt.figure()\n",
        "fig.set_figwidth(10)\n",
        "fig.set_figheight(6)\n",
        "plt.errorbar(Ci_range,mean_error1,yerr=std_error1, label = 'Ridge Model')\n",
        "plt.errorbar(Ci_range,mean_error2,yerr=std_error2, label = 'Lasso Model') \n",
        "plt.xlabel('Ci') \n",
        "plt.ylabel('Mean abs error') \n",
        "plt.legend()\n",
        "plt.title(\"Error bar plot for different C values for Ridge and Lasso models\")\n",
        "plt.show()\n",
        "print(mean_error)\n",
        "print(mean_error1)\n",
        "print(mean_error2)"
      ],
      "execution_count": 197,
      "outputs": [
        {
          "output_type": "display_data",
          "data": {
            "image/png": "[encoded data removed]",
            "text/plain": [
              "<Figure size 720x432 with 1 Axes>"
            ]
          },
          "metadata": {}
        },
        {
          "output_type": "stream",
          "name": "stdout",
          "text": [
            "[1.1981198155630495, 0.8100328270448172, 0.7917277685123246, 0.7912542939393565, 0.7912336924380232, 0.7912171849210223, 0.7912151260481322]\n",
            "[3.100218860005245, 2.0024403004894458, 1.9356722766278114, 1.9331843391855599, 1.9330675095682317, 1.932976758969516, 1.9329655911188435]\n",
            "[3.6357467540765818, 3.6357467540765818, 3.6357467540765818, 3.640397753277052, 2.8317929266501674, 2.049440241758446, 1.9937086274853564]\n"
          ]
        }
      ]
    },
    {
      "cell_type": "code",
      "metadata": {
        "colab": {
          "base_uri": "https://localhost:8080/",
          "height": 417
        },
        "id": "VN5Sa9eP7MCa",
        "outputId": "2afc1314-c65b-409d-eeb0-802656ee2d39"
      },
      "source": [
        "from sklearn.model_selection import KFold\n",
        "from sklearn.metrics import mean_squared_error\n",
        "\n",
        "mean_error1=[]\n",
        "std_error1=[] \n",
        "mean_error2=[]\n",
        "std_error2=[] \n",
        "Ci_range = [0.0001, 0.0025, 0.05, 0.5, 1, 5, 10] \n",
        "for C in Ci_range: \n",
        "    model1 = Ridge(alpha=1/(2*C)) \n",
        "    model2 = Lasso(alpha=1/(2*C))\n",
        "    temp1=[]\n",
        "    temp2=[]  \n",
        "    kf = KFold(n_splits=5) \n",
        "    for train, test in kf.split(X): \n",
        "        model1.fit(X[train], y4[train]) \n",
        "        model2.fit(X[train], y4[train])\n",
        "        ypred1 = model1.predict(X[test]) \n",
        "        ypred2 = model2.predict(X[test]) \n",
        "        temp1.append(mean_absolute_error(y4[test],ypred1)) \n",
        "        temp2.append(mean_absolute_error(y4[test],ypred2)) \n",
        "    mean_error1.append(np.array(temp1).mean()) \n",
        "    std_error1.append(np.array(temp1).std()) \n",
        "    mean_error2.append(np.array(temp2).mean()) \n",
        "    std_error2.append(np.array(temp2).std())        \n",
        "fig = plt.figure()\n",
        "fig.set_figwidth(10)\n",
        "fig.set_figheight(6)\n",
        "plt.errorbar(Ci_range,mean_error1,yerr=std_error1, label = 'Ridge Model')\n",
        "plt.errorbar(Ci_range,mean_error2,yerr=std_error2, label = 'Lasso Model') \n",
        "plt.xlabel('Ci') \n",
        "plt.ylabel('Mean abs error') \n",
        "plt.legend()\n",
        "plt.title(\"Error bar plot for different C values for Ridge and Lasso models\")\n",
        "plt.show()\n",
        "print(mean_error)"
      ],
      "execution_count": 194,
      "outputs": [
        {
          "output_type": "display_data",
          "data": {
            "image/png": "[encoded data removed]",
            "text/plain": [
              "<Figure size 720x432 with 1 Axes>"
            ]
          },
          "metadata": {}
        },
        {
          "output_type": "stream",
          "name": "stdout",
          "text": [
            "[1.1981198155630495, 0.8100328270448172, 0.7917277685123246, 0.7912542939393565, 0.7912336924380232, 0.7912171849210223, 0.7912151260481322]\n"
          ]
        }
      ]
    }
  ]
}